{
 "cells": [
  {
   "cell_type": "code",
   "execution_count": 1,
   "id": "1c83d127-8462-47f1-9b6d-b4c147ae5973",
   "metadata": {},
   "outputs": [
    {
     "name": "stdout",
     "output_type": "stream",
     "text": [
      "Requirement already satisfied: voila in /home/user/miniconda3/envs/fastai/lib/python3.8/site-packages (0.3.3)\n",
      "Requirement already satisfied: jupyter-server<2.0.0,>=0.3.0 in /home/user/miniconda3/envs/fastai/lib/python3.8/site-packages (from voila) (1.4.1)\n",
      "Requirement already satisfied: websockets>=9.0 in /home/user/miniconda3/envs/fastai/lib/python3.8/site-packages (from voila) (10.2)\n",
      "Requirement already satisfied: jupyterlab-server<3,>=2.3.0 in /home/user/miniconda3/envs/fastai/lib/python3.8/site-packages (from voila) (2.8.1)\n",
      "Requirement already satisfied: nbclient<0.6,>=0.4.0 in /home/user/miniconda3/envs/fastai/lib/python3.8/site-packages (from voila) (0.5.13)\n",
      "Requirement already satisfied: traitlets<6,>=5.0.3 in /home/user/miniconda3/envs/fastai/lib/python3.8/site-packages (from voila) (5.1.0)\n",
      "Requirement already satisfied: jupyter-client<8,>=6.1.3 in /home/user/miniconda3/envs/fastai/lib/python3.8/site-packages (from voila) (6.1.12)\n",
      "Requirement already satisfied: nbconvert<7,>=6.4.2 in /home/user/miniconda3/envs/fastai/lib/python3.8/site-packages (from voila) (6.4.4)\n",
      "Requirement already satisfied: jupyter-core>=4.6.0 in /home/user/miniconda3/envs/fastai/lib/python3.8/site-packages (from jupyter-client<8,>=6.1.3->voila) (4.7.1)\n",
      "Requirement already satisfied: pyzmq>=13 in /home/user/miniconda3/envs/fastai/lib/python3.8/site-packages (from jupyter-client<8,>=6.1.3->voila) (22.2.1)\n",
      "Requirement already satisfied: python-dateutil>=2.1 in /home/user/miniconda3/envs/fastai/lib/python3.8/site-packages (from jupyter-client<8,>=6.1.3->voila) (2.8.2)\n",
      "Requirement already satisfied: tornado>=4.1 in /home/user/miniconda3/envs/fastai/lib/python3.8/site-packages (from jupyter-client<8,>=6.1.3->voila) (6.1)\n",
      "Requirement already satisfied: ipython-genutils in /home/user/miniconda3/envs/fastai/lib/python3.8/site-packages (from jupyter-server<2.0.0,>=0.3.0->voila) (0.2.0)\n",
      "Requirement already satisfied: nbformat in /home/user/miniconda3/envs/fastai/lib/python3.8/site-packages (from jupyter-server<2.0.0,>=0.3.0->voila) (5.1.3)\n",
      "Requirement already satisfied: prometheus-client in /home/user/miniconda3/envs/fastai/lib/python3.8/site-packages (from jupyter-server<2.0.0,>=0.3.0->voila) (0.11.0)\n",
      "Requirement already satisfied: Send2Trash in /home/user/miniconda3/envs/fastai/lib/python3.8/site-packages (from jupyter-server<2.0.0,>=0.3.0->voila) (1.8.0)\n",
      "Requirement already satisfied: terminado>=0.8.3 in /home/user/miniconda3/envs/fastai/lib/python3.8/site-packages (from jupyter-server<2.0.0,>=0.3.0->voila) (0.9.4)\n",
      "Requirement already satisfied: jinja2 in /home/user/miniconda3/envs/fastai/lib/python3.8/site-packages (from jupyter-server<2.0.0,>=0.3.0->voila) (3.0.1)\n",
      "Requirement already satisfied: anyio>=2.0.2 in /home/user/miniconda3/envs/fastai/lib/python3.8/site-packages (from jupyter-server<2.0.0,>=0.3.0->voila) (2.2.0)\n",
      "Requirement already satisfied: idna>=2.8 in /home/user/miniconda3/envs/fastai/lib/python3.8/site-packages (from anyio>=2.0.2->jupyter-server<2.0.0,>=0.3.0->voila) (3.2)\n",
      "Requirement already satisfied: sniffio>=1.1 in /home/user/miniconda3/envs/fastai/lib/python3.8/site-packages (from anyio>=2.0.2->jupyter-server<2.0.0,>=0.3.0->voila) (1.2.0)\n",
      "Requirement already satisfied: json5 in /home/user/miniconda3/envs/fastai/lib/python3.8/site-packages (from jupyterlab-server<3,>=2.3.0->voila) (0.9.6)\n",
      "Requirement already satisfied: jsonschema>=3.0.1 in /home/user/miniconda3/envs/fastai/lib/python3.8/site-packages (from jupyterlab-server<3,>=2.3.0->voila) (3.2.0)\n",
      "Requirement already satisfied: requests in /home/user/miniconda3/envs/fastai/lib/python3.8/site-packages (from jupyterlab-server<3,>=2.3.0->voila) (2.26.0)\n",
      "Requirement already satisfied: entrypoints>=0.2.2 in /home/user/miniconda3/envs/fastai/lib/python3.8/site-packages (from jupyterlab-server<3,>=2.3.0->voila) (0.3)\n",
      "Requirement already satisfied: babel in /home/user/miniconda3/envs/fastai/lib/python3.8/site-packages (from jupyterlab-server<3,>=2.3.0->voila) (2.9.1)\n",
      "Requirement already satisfied: packaging in /home/user/miniconda3/envs/fastai/lib/python3.8/site-packages (from jupyterlab-server<3,>=2.3.0->voila) (21.0)\n",
      "Requirement already satisfied: MarkupSafe>=2.0 in /home/user/miniconda3/envs/fastai/lib/python3.8/site-packages (from jinja2->jupyter-server<2.0.0,>=0.3.0->voila) (2.0.1)\n",
      "Requirement already satisfied: setuptools in /home/user/miniconda3/envs/fastai/lib/python3.8/site-packages (from jsonschema>=3.0.1->jupyterlab-server<3,>=2.3.0->voila) (58.0.4)\n",
      "Requirement already satisfied: pyrsistent>=0.14.0 in /home/user/miniconda3/envs/fastai/lib/python3.8/site-packages (from jsonschema>=3.0.1->jupyterlab-server<3,>=2.3.0->voila) (0.17.3)\n",
      "Requirement already satisfied: six>=1.11.0 in /home/user/miniconda3/envs/fastai/lib/python3.8/site-packages (from jsonschema>=3.0.1->jupyterlab-server<3,>=2.3.0->voila) (1.16.0)\n",
      "Requirement already satisfied: attrs>=17.4.0 in /home/user/miniconda3/envs/fastai/lib/python3.8/site-packages (from jsonschema>=3.0.1->jupyterlab-server<3,>=2.3.0->voila) (21.2.0)\n",
      "Requirement already satisfied: nest-asyncio in /home/user/miniconda3/envs/fastai/lib/python3.8/site-packages (from nbclient<0.6,>=0.4.0->voila) (1.5.4)\n",
      "Requirement already satisfied: mistune<2,>=0.8.1 in /home/user/miniconda3/envs/fastai/lib/python3.8/site-packages (from nbconvert<7,>=6.4.2->voila) (0.8.4)\n",
      "Requirement already satisfied: jupyterlab-pygments in /home/user/miniconda3/envs/fastai/lib/python3.8/site-packages (from nbconvert<7,>=6.4.2->voila) (0.1.2)\n",
      "Requirement already satisfied: beautifulsoup4 in /home/user/miniconda3/envs/fastai/lib/python3.8/site-packages (from nbconvert<7,>=6.4.2->voila) (4.10.0)\n",
      "Requirement already satisfied: bleach in /home/user/miniconda3/envs/fastai/lib/python3.8/site-packages (from nbconvert<7,>=6.4.2->voila) (4.0.0)\n",
      "Requirement already satisfied: defusedxml in /home/user/miniconda3/envs/fastai/lib/python3.8/site-packages (from nbconvert<7,>=6.4.2->voila) (0.7.1)\n",
      "Requirement already satisfied: pandocfilters>=1.4.1 in /home/user/miniconda3/envs/fastai/lib/python3.8/site-packages (from nbconvert<7,>=6.4.2->voila) (1.4.3)\n",
      "Requirement already satisfied: testpath in /home/user/miniconda3/envs/fastai/lib/python3.8/site-packages (from nbconvert<7,>=6.4.2->voila) (0.5.0)\n",
      "Requirement already satisfied: pygments>=2.4.1 in /home/user/miniconda3/envs/fastai/lib/python3.8/site-packages (from nbconvert<7,>=6.4.2->voila) (2.10.0)\n",
      "Requirement already satisfied: ptyprocess in /home/user/miniconda3/envs/fastai/lib/python3.8/site-packages (from terminado>=0.8.3->jupyter-server<2.0.0,>=0.3.0->voila) (0.7.0)\n",
      "Requirement already satisfied: pytz>=2015.7 in /home/user/miniconda3/envs/fastai/lib/python3.8/site-packages (from babel->jupyterlab-server<3,>=2.3.0->voila) (2021.1)\n",
      "Requirement already satisfied: soupsieve>1.2 in /home/user/miniconda3/envs/fastai/lib/python3.8/site-packages (from beautifulsoup4->nbconvert<7,>=6.4.2->voila) (2.3.1)\n",
      "Requirement already satisfied: webencodings in /home/user/miniconda3/envs/fastai/lib/python3.8/site-packages (from bleach->nbconvert<7,>=6.4.2->voila) (0.5.1)\n",
      "Requirement already satisfied: pyparsing>=2.0.2 in /home/user/miniconda3/envs/fastai/lib/python3.8/site-packages (from packaging->jupyterlab-server<3,>=2.3.0->voila) (2.4.7)\n",
      "Requirement already satisfied: certifi>=2017.4.17 in /home/user/miniconda3/envs/fastai/lib/python3.8/site-packages (from requests->jupyterlab-server<3,>=2.3.0->voila) (2021.5.30)\n",
      "Requirement already satisfied: charset-normalizer~=2.0.0 in /home/user/miniconda3/envs/fastai/lib/python3.8/site-packages (from requests->jupyterlab-server<3,>=2.3.0->voila) (2.0.4)\n",
      "Requirement already satisfied: urllib3<1.27,>=1.21.1 in /home/user/miniconda3/envs/fastai/lib/python3.8/site-packages (from requests->jupyterlab-server<3,>=2.3.0->voila) (1.26.6)\n",
      "Enabling: voila\n",
      "- Writing config: /home/user/miniconda3/envs/fastai/etc/jupyter\n",
      "    - Validating...\n",
      "      voila 0.3.3 \u001b[32mOK\u001b[0m\n"
     ]
    }
   ],
   "source": [
    "!pip install voila\n",
    "!jupyter serverextension enable --sys-prefix voila"
   ]
  },
  {
   "cell_type": "code",
   "execution_count": 2,
   "id": "59c5a3d6-2941-4ec5-ba74-61d9afde3f03",
   "metadata": {},
   "outputs": [],
   "source": [
    "from fastai.vision.all import *\n",
    "from fastai.vision.widgets import *"
   ]
  },
  {
   "cell_type": "markdown",
   "id": "0612222e-2857-4c4a-a2ad-e9ab3a3f1830",
   "metadata": {
    "tags": []
   },
   "source": [
    "The Amazing Bear Classifier!\n",
    "You need to know whether you're being chased by a dangerous grizzly, or a sweet teddy bear, and you need an answer fast? Then you've come to the right place. Take a pic of the potentially vicious killer, and click 'upload' to classify it. (Important: this only handles grizzly bears, black bears, and teddy bears. It will not give a sensible answer for polar bears, a bear market, a bear of a man, or hot dogs."
   ]
  },
  {
   "cell_type": "code",
   "execution_count": 3,
   "id": "f93ae1c6-6395-4165-ab2b-bbf048e76c96",
   "metadata": {},
   "outputs": [],
   "source": [
    "path = Path()\n",
    "learn_inf = load_learner(path/'export.pkl', cpu=True)\n",
    "btn_upload = widgets.FileUpload()\n",
    "out_pl = widgets.Output()\n",
    "lbl_pred = widgets.Label()"
   ]
  },
  {
   "cell_type": "code",
   "execution_count": 4,
   "id": "9b7b33e8-0e67-40e4-9da0-65001179cfad",
   "metadata": {},
   "outputs": [],
   "source": [
    "def on_data_change(change):\n",
    "    lbl_pred.value = ''\n",
    "    img = PILImage.create(btn_upload.data[-1])\n",
    "    out_pl.clear_output()\n",
    "    with out_pl: display(img.to_thumb(128,128))\n",
    "    pred,pred_idx,probs = learn_inf.predict(img)\n",
    "    lbl_pred.value = f'Prediction: {pred}; Probability: {probs[pred_idx]:.04f}'"
   ]
  },
  {
   "cell_type": "code",
   "execution_count": 5,
   "id": "65723b3f-197c-49ca-abcb-9f0eb5e2623b",
   "metadata": {},
   "outputs": [],
   "source": [
    "btn_upload.observe(on_data_change, names=['data'])"
   ]
  },
  {
   "cell_type": "code",
   "execution_count": null,
   "id": "ce8945f0-ced9-4850-a432-810e60444420",
   "metadata": {},
   "outputs": [],
   "source": []
  },
  {
   "cell_type": "code",
   "execution_count": null,
   "id": "755e3e7e-d1ba-465a-8bfb-22cdd9d02eba",
   "metadata": {},
   "outputs": [],
   "source": []
  },
  {
   "cell_type": "code",
   "execution_count": null,
   "id": "2d799a4f-117a-489c-b872-8f44f1b96781",
   "metadata": {},
   "outputs": [],
   "source": []
  },
  {
   "cell_type": "code",
   "execution_count": null,
   "id": "798cf997-18ea-48d9-9d36-f4118da6e9cb",
   "metadata": {},
   "outputs": [],
   "source": []
  },
  {
   "cell_type": "code",
   "execution_count": null,
   "id": "454f8ede-9e72-4e22-be1e-646fd8d4c9ad",
   "metadata": {},
   "outputs": [],
   "source": []
  },
  {
   "cell_type": "code",
   "execution_count": null,
   "id": "05f41b8e-4017-4bb8-b60d-51749f3c8b3c",
   "metadata": {},
   "outputs": [],
   "source": []
  },
  {
   "cell_type": "code",
   "execution_count": null,
   "id": "90b5c316-2215-489d-8367-2c802ba1da13",
   "metadata": {},
   "outputs": [],
   "source": []
  },
  {
   "cell_type": "code",
   "execution_count": null,
   "id": "bad1c1bb-524c-41ce-97a0-003019ee18c9",
   "metadata": {},
   "outputs": [],
   "source": []
  },
  {
   "cell_type": "code",
   "execution_count": null,
   "id": "0a6d690a-d303-4ba1-a350-ce70e3672794",
   "metadata": {},
   "outputs": [],
   "source": []
  },
  {
   "cell_type": "code",
   "execution_count": null,
   "id": "a6e9a604-e6b6-4b2e-a139-1a02f580c0f6",
   "metadata": {},
   "outputs": [],
   "source": []
  }
 ],
 "metadata": {
  "kernelspec": {
   "display_name": "Python 3 (ipykernel)",
   "language": "python",
   "name": "python3"
  },
  "language_info": {
   "codemirror_mode": {
    "name": "ipython",
    "version": 3
   },
   "file_extension": ".py",
   "mimetype": "text/x-python",
   "name": "python",
   "nbconvert_exporter": "python",
   "pygments_lexer": "ipython3",
   "version": "3.8.5"
  }
 },
 "nbformat": 4,
 "nbformat_minor": 5
}
